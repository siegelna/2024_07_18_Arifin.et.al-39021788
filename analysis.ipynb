{
 "cells": [
  {
   "cell_type": "markdown",
   "metadata": {},
   "source": [
    "# BTLA and PD-1 signals attenuate TCR-mediated transcriptomic changes\n",
    "GEO: [GSE239586](https://www.ncbi.nlm.nih.gov/geo/query/acc.cgi?acc=GSE239586)"
   ]
  },
  {
   "cell_type": "code",
   "execution_count": 41,
   "metadata": {
    "vscode": {
     "languageId": "r"
    }
   },
   "outputs": [],
   "source": [
    "suppressPackageStartupMessages({\n",
    "    library(R.utils)\n",
    "    library(dplyr)\n",
    "    library(ggplot2)\n",
    "    library(reshape2)\n",
    "    library(edgeR)\n",
    "})"
   ]
  },
  {
   "cell_type": "code",
   "execution_count": 18,
   "metadata": {
    "vscode": {
     "languageId": "r"
    }
   },
   "outputs": [
    {
     "data": {
      "text/html": [
       "<table class=\"dataframe\">\n",
       "<caption>A data.table: 6 × 3</caption>\n",
       "<thead>\n",
       "\t<tr><th scope=col>sample</th><th scope=col>type</th><th scope=col>Group</th></tr>\n",
       "\t<tr><th scope=col>&lt;chr&gt;</th><th scope=col>&lt;chr&gt;</th><th scope=col>&lt;chr&gt;</th></tr>\n",
       "</thead>\n",
       "<tbody>\n",
       "\t<tr><td>S_1</td><td>unstimulated</td><td>0 </td></tr>\n",
       "\t<tr><td>S_2</td><td>unstimulated</td><td>0 </td></tr>\n",
       "\t<tr><td>S_3</td><td>unstimulated</td><td>0 </td></tr>\n",
       "\t<tr><td>S_4</td><td>TCR         </td><td>4h</td></tr>\n",
       "\t<tr><td>S_5</td><td>TCR         </td><td>4h</td></tr>\n",
       "\t<tr><td>S_6</td><td>TCR         </td><td>4h</td></tr>\n",
       "</tbody>\n",
       "</table>\n"
      ],
      "text/latex": [
       "A data.table: 6 × 3\n",
       "\\begin{tabular}{lll}\n",
       " sample & type & Group\\\\\n",
       " <chr> & <chr> & <chr>\\\\\n",
       "\\hline\n",
       "\t S\\_1 & unstimulated & 0 \\\\\n",
       "\t S\\_2 & unstimulated & 0 \\\\\n",
       "\t S\\_3 & unstimulated & 0 \\\\\n",
       "\t S\\_4 & TCR          & 4h\\\\\n",
       "\t S\\_5 & TCR          & 4h\\\\\n",
       "\t S\\_6 & TCR          & 4h\\\\\n",
       "\\end{tabular}\n"
      ],
      "text/markdown": [
       "\n",
       "A data.table: 6 × 3\n",
       "\n",
       "| sample &lt;chr&gt; | type &lt;chr&gt; | Group &lt;chr&gt; |\n",
       "|---|---|---|\n",
       "| S_1 | unstimulated | 0  |\n",
       "| S_2 | unstimulated | 0  |\n",
       "| S_3 | unstimulated | 0  |\n",
       "| S_4 | TCR          | 4h |\n",
       "| S_5 | TCR          | 4h |\n",
       "| S_6 | TCR          | 4h |\n",
       "\n"
      ],
      "text/plain": [
       "  sample type         Group\n",
       "1 S_1    unstimulated 0    \n",
       "2 S_2    unstimulated 0    \n",
       "3 S_3    unstimulated 0    \n",
       "4 S_4    TCR          4h   \n",
       "5 S_5    TCR          4h   \n",
       "6 S_6    TCR          4h   "
      ]
     },
     "metadata": {},
     "output_type": "display_data"
    }
   ],
   "source": [
    "metadata <- data.table::fread(\"https://www.ncbi.nlm.nih.gov/geo/download/?acc=GSE239586&format=file&file=GSE239586%5Fmetadata%2Etxt%2Egz\")\n",
    "head(metadata)"
   ]
  },
  {
   "cell_type": "code",
   "execution_count": 32,
   "metadata": {
    "vscode": {
     "languageId": "r"
    }
   },
   "outputs": [
    {
     "data": {
      "text/html": [
       "<table class=\"dataframe\">\n",
       "<caption>A data.frame: 6 × 30</caption>\n",
       "<thead>\n",
       "\t<tr><th></th><th scope=col>S_4</th><th scope=col>S_3</th><th scope=col>S_10</th><th scope=col>S_11</th><th scope=col>S_7</th><th scope=col>S_12</th><th scope=col>S_9</th><th scope=col>S_2</th><th scope=col>S_15</th><th scope=col>S_6</th><th scope=col>⋯</th><th scope=col>S_21</th><th scope=col>S_17</th><th scope=col>S_18</th><th scope=col>S_19</th><th scope=col>S_24</th><th scope=col>S_25</th><th scope=col>S_29</th><th scope=col>S_16</th><th scope=col>S_28</th><th scope=col>S_23</th></tr>\n",
       "\t<tr><th></th><th scope=col>&lt;int&gt;</th><th scope=col>&lt;int&gt;</th><th scope=col>&lt;int&gt;</th><th scope=col>&lt;int&gt;</th><th scope=col>&lt;int&gt;</th><th scope=col>&lt;int&gt;</th><th scope=col>&lt;int&gt;</th><th scope=col>&lt;int&gt;</th><th scope=col>&lt;int&gt;</th><th scope=col>&lt;int&gt;</th><th scope=col>⋯</th><th scope=col>&lt;int&gt;</th><th scope=col>&lt;int&gt;</th><th scope=col>&lt;int&gt;</th><th scope=col>&lt;int&gt;</th><th scope=col>&lt;int&gt;</th><th scope=col>&lt;int&gt;</th><th scope=col>&lt;int&gt;</th><th scope=col>&lt;int&gt;</th><th scope=col>&lt;int&gt;</th><th scope=col>&lt;int&gt;</th></tr>\n",
       "</thead>\n",
       "<tbody>\n",
       "\t<tr><th scope=row>TSPAN6</th><td>   4</td><td>   0</td><td>   0</td><td>   0</td><td>   0</td><td>   0</td><td>   0</td><td>   0</td><td>   0</td><td>   0</td><td>⋯</td><td>   0</td><td>   0</td><td>   0</td><td>   0</td><td>   0</td><td>   0</td><td>   0</td><td>   0</td><td>   0</td><td>   0</td></tr>\n",
       "\t<tr><th scope=row>TNMD</th><td>   0</td><td>   0</td><td>   0</td><td>   0</td><td>   0</td><td>   0</td><td>   0</td><td>   0</td><td>   0</td><td>   0</td><td>⋯</td><td>   0</td><td>   0</td><td>   0</td><td>   0</td><td>   0</td><td>   0</td><td>   0</td><td>   0</td><td>   0</td><td>   0</td></tr>\n",
       "\t<tr><th scope=row>DPM1</th><td>2043</td><td>3426</td><td>1763</td><td>1957</td><td>1975</td><td>1871</td><td>2223</td><td>2838</td><td>1965</td><td>1974</td><td>⋯</td><td>1765</td><td>1780</td><td>1897</td><td>1826</td><td>1509</td><td>1185</td><td>1237</td><td>1759</td><td>1232</td><td>1530</td></tr>\n",
       "\t<tr><th scope=row>SCYL3</th><td>1093</td><td>1443</td><td> 875</td><td>1007</td><td>1156</td><td>1121</td><td>1153</td><td>1574</td><td> 695</td><td>1076</td><td>⋯</td><td> 574</td><td> 655</td><td> 518</td><td> 605</td><td> 612</td><td> 503</td><td> 504</td><td> 634</td><td> 507</td><td> 629</td></tr>\n",
       "\t<tr><th scope=row>C1orf112</th><td>2303</td><td>3267</td><td>2043</td><td>2143</td><td>2330</td><td>2204</td><td>2650</td><td>3287</td><td>2224</td><td>2216</td><td>⋯</td><td>1986</td><td>1856</td><td>1914</td><td>1917</td><td>1455</td><td>1383</td><td>1272</td><td>2126</td><td>1426</td><td>1746</td></tr>\n",
       "\t<tr><th scope=row>FGR</th><td> 244</td><td> 291</td><td> 235</td><td> 260</td><td> 259</td><td> 306</td><td> 213</td><td> 314</td><td>  67</td><td> 225</td><td>⋯</td><td> 101</td><td>  92</td><td>  80</td><td>  62</td><td>  67</td><td>  45</td><td>  77</td><td>  76</td><td>  46</td><td>  68</td></tr>\n",
       "</tbody>\n",
       "</table>\n"
      ],
      "text/latex": [
       "A data.frame: 6 × 30\n",
       "\\begin{tabular}{r|lllllllllllllllllllll}\n",
       "  & S\\_4 & S\\_3 & S\\_10 & S\\_11 & S\\_7 & S\\_12 & S\\_9 & S\\_2 & S\\_15 & S\\_6 & ⋯ & S\\_21 & S\\_17 & S\\_18 & S\\_19 & S\\_24 & S\\_25 & S\\_29 & S\\_16 & S\\_28 & S\\_23\\\\\n",
       "  & <int> & <int> & <int> & <int> & <int> & <int> & <int> & <int> & <int> & <int> & ⋯ & <int> & <int> & <int> & <int> & <int> & <int> & <int> & <int> & <int> & <int>\\\\\n",
       "\\hline\n",
       "\tTSPAN6 &    4 &    0 &    0 &    0 &    0 &    0 &    0 &    0 &    0 &    0 & ⋯ &    0 &    0 &    0 &    0 &    0 &    0 &    0 &    0 &    0 &    0\\\\\n",
       "\tTNMD &    0 &    0 &    0 &    0 &    0 &    0 &    0 &    0 &    0 &    0 & ⋯ &    0 &    0 &    0 &    0 &    0 &    0 &    0 &    0 &    0 &    0\\\\\n",
       "\tDPM1 & 2043 & 3426 & 1763 & 1957 & 1975 & 1871 & 2223 & 2838 & 1965 & 1974 & ⋯ & 1765 & 1780 & 1897 & 1826 & 1509 & 1185 & 1237 & 1759 & 1232 & 1530\\\\\n",
       "\tSCYL3 & 1093 & 1443 &  875 & 1007 & 1156 & 1121 & 1153 & 1574 &  695 & 1076 & ⋯ &  574 &  655 &  518 &  605 &  612 &  503 &  504 &  634 &  507 &  629\\\\\n",
       "\tC1orf112 & 2303 & 3267 & 2043 & 2143 & 2330 & 2204 & 2650 & 3287 & 2224 & 2216 & ⋯ & 1986 & 1856 & 1914 & 1917 & 1455 & 1383 & 1272 & 2126 & 1426 & 1746\\\\\n",
       "\tFGR &  244 &  291 &  235 &  260 &  259 &  306 &  213 &  314 &   67 &  225 & ⋯ &  101 &   92 &   80 &   62 &   67 &   45 &   77 &   76 &   46 &   68\\\\\n",
       "\\end{tabular}\n"
      ],
      "text/markdown": [
       "\n",
       "A data.frame: 6 × 30\n",
       "\n",
       "| <!--/--> | S_4 &lt;int&gt; | S_3 &lt;int&gt; | S_10 &lt;int&gt; | S_11 &lt;int&gt; | S_7 &lt;int&gt; | S_12 &lt;int&gt; | S_9 &lt;int&gt; | S_2 &lt;int&gt; | S_15 &lt;int&gt; | S_6 &lt;int&gt; | ⋯ ⋯ | S_21 &lt;int&gt; | S_17 &lt;int&gt; | S_18 &lt;int&gt; | S_19 &lt;int&gt; | S_24 &lt;int&gt; | S_25 &lt;int&gt; | S_29 &lt;int&gt; | S_16 &lt;int&gt; | S_28 &lt;int&gt; | S_23 &lt;int&gt; |\n",
       "|---|---|---|---|---|---|---|---|---|---|---|---|---|---|---|---|---|---|---|---|---|---|\n",
       "| TSPAN6 |    4 |    0 |    0 |    0 |    0 |    0 |    0 |    0 |    0 |    0 | ⋯ |    0 |    0 |    0 |    0 |    0 |    0 |    0 |    0 |    0 |    0 |\n",
       "| TNMD |    0 |    0 |    0 |    0 |    0 |    0 |    0 |    0 |    0 |    0 | ⋯ |    0 |    0 |    0 |    0 |    0 |    0 |    0 |    0 |    0 |    0 |\n",
       "| DPM1 | 2043 | 3426 | 1763 | 1957 | 1975 | 1871 | 2223 | 2838 | 1965 | 1974 | ⋯ | 1765 | 1780 | 1897 | 1826 | 1509 | 1185 | 1237 | 1759 | 1232 | 1530 |\n",
       "| SCYL3 | 1093 | 1443 |  875 | 1007 | 1156 | 1121 | 1153 | 1574 |  695 | 1076 | ⋯ |  574 |  655 |  518 |  605 |  612 |  503 |  504 |  634 |  507 |  629 |\n",
       "| C1orf112 | 2303 | 3267 | 2043 | 2143 | 2330 | 2204 | 2650 | 3287 | 2224 | 2216 | ⋯ | 1986 | 1856 | 1914 | 1917 | 1455 | 1383 | 1272 | 2126 | 1426 | 1746 |\n",
       "| FGR |  244 |  291 |  235 |  260 |  259 |  306 |  213 |  314 |   67 |  225 | ⋯ |  101 |   92 |   80 |   62 |   67 |   45 |   77 |   76 |   46 |   68 |\n",
       "\n"
      ],
      "text/plain": [
       "         S_4  S_3  S_10 S_11 S_7  S_12 S_9  S_2  S_15 S_6  ⋯ S_21 S_17 S_18\n",
       "TSPAN6      4    0    0    0    0    0    0    0    0    0 ⋯    0    0    0\n",
       "TNMD        0    0    0    0    0    0    0    0    0    0 ⋯    0    0    0\n",
       "DPM1     2043 3426 1763 1957 1975 1871 2223 2838 1965 1974 ⋯ 1765 1780 1897\n",
       "SCYL3    1093 1443  875 1007 1156 1121 1153 1574  695 1076 ⋯  574  655  518\n",
       "C1orf112 2303 3267 2043 2143 2330 2204 2650 3287 2224 2216 ⋯ 1986 1856 1914\n",
       "FGR       244  291  235  260  259  306  213  314   67  225 ⋯  101   92   80\n",
       "         S_19 S_24 S_25 S_29 S_16 S_28 S_23\n",
       "TSPAN6      0    0    0    0    0    0    0\n",
       "TNMD        0    0    0    0    0    0    0\n",
       "DPM1     1826 1509 1185 1237 1759 1232 1530\n",
       "SCYL3     605  612  503  504  634  507  629\n",
       "C1orf112 1917 1455 1383 1272 2126 1426 1746\n",
       "FGR        62   67   45   77   76   46   68"
      ]
     },
     "metadata": {},
     "output_type": "display_data"
    }
   ],
   "source": [
    "data <- data.table::fread(\n",
    "    \"https://www.ncbi.nlm.nih.gov/geo/download/?acc=GSE239586&format=file&file=GSE239586%5Fraw%5Fcounts%2Etxt%2Egz\"\n",
    "    ) %>% select(-ENSEMBL)\n",
    "rownames(data) <- make.unique(data[[1]])\n",
    "counts <- data.frame(data[,-1], row.names = make.unique(data[[1]]))\n",
    "head(counts)"
   ]
  },
  {
   "cell_type": "code",
   "execution_count": 37,
   "metadata": {
    "vscode": {
     "languageId": "r"
    }
   },
   "outputs": [],
   "source": [
    "# Create a box plot\n",
    "counts_mat <- as.matrix(counts)\n",
    "box_plot <- ggplot(data = melt(counts_mat), aes(x = Var2, y = value)) +\n",
    "  geom_boxplot() +\n",
    "  labs(x = \"Samples\", y = \"Counts\") +\n",
    "  theme(axis.text.x = element_text(angle = 90, vjust = 0.5)) +\n",
    "  ggtitle(\"Box Plot of Counts Matrix\")\n",
    "\n",
    "# Compute summary statistics\n",
    "summary_stats <- apply(counts_mat, 2, summary)\n",
    "formatted_summary <- t(round(summary_stats, 2)) "
   ]
  },
  {
   "cell_type": "code",
   "execution_count": 38,
   "metadata": {
    "vscode": {
     "languageId": "r"
    }
   },
   "outputs": [
    {
     "data": {
      "image/png": "[encoded data removed]",
      "text/plain": [
       "plot without title"
      ]
     },
     "metadata": {
      "image/png": {
       "height": 420,
       "width": 420
      }
     },
     "output_type": "display_data"
    }
   ],
   "source": [
    "box_plot"
   ]
  },
  {
   "cell_type": "code",
   "execution_count": 39,
   "metadata": {
    "vscode": {
     "languageId": "r"
    }
   },
   "outputs": [
    {
     "name": "stdout",
     "output_type": "stream",
     "text": [
      "\n",
      "\n",
      "Table: Summary Statistics\n",
      "\n",
      "|     | Min. | 1st Qu. | Median |  Mean   | 3rd Qu. |  Max.  |\n",
      "|:----|:----:|:-------:|:------:|:-------:|:-------:|:------:|\n",
      "|S_4  |  0   |    0    |   0    | 829.33  | 376.25  | 257830 |\n",
      "|S_3  |  0   |    0    |   0    | 849.99  |  4.00   | 360914 |\n",
      "|S_10 |  0   |    0    |   0    | 833.52  | 402.25  | 228405 |\n",
      "|S_11 |  0   |    0    |   0    | 953.94  | 466.00  | 267309 |\n",
      "|S_7  |  0   |    0    |   0    | 928.53  | 432.00  | 273981 |\n",
      "|S_12 |  0   |    0    |   0    | 917.25  | 446.00  | 276486 |\n",
      "|S_9  |  0   |    0    |   0    | 945.35  | 444.00  | 276811 |\n",
      "|S_2  |  0   |    0    |   0    | 837.31  |  4.00   | 429927 |\n",
      "|S_15 |  0   |    0    |   0    | 949.09  | 407.25  | 287307 |\n",
      "|S_6  |  0   |    0    |   0    | 797.56  | 359.00  | 217813 |\n",
      "|S_8  |  0   |    0    |   1    | 919.13  | 425.00  | 266353 |\n",
      "|S_1  |  0   |    0    |   0    | 853.28  |  4.00   | 360572 |\n",
      "|S_5  |  0   |    0    |   0    | 1028.31 | 471.00  | 291574 |\n",
      "|S_14 |  0   |    0    |   0    | 1459.70 | 625.00  | 453736 |\n",
      "|S_13 |  0   |    0    |   0    | 999.02  | 432.00  | 292941 |\n",
      "|S_22 |  0   |    0    |   0    | 814.07  | 436.00  | 360455 |\n",
      "|S_26 |  0   |    0    |   0    | 847.80  | 453.00  | 466610 |\n",
      "|S_30 |  0   |    0    |   0    | 828.51  | 453.00  | 402738 |\n",
      "|S_27 |  0   |    0    |   0    | 804.38  | 427.00  | 453048 |\n",
      "|S_20 |  0   |    0    |   0    | 904.10  | 384.00  | 315200 |\n",
      "|S_21 |  0   |    0    |   0    | 932.61  | 401.00  | 336045 |\n",
      "|S_17 |  0   |    0    |   0    | 911.05  | 388.00  | 335488 |\n",
      "|S_18 |  0   |    0    |   0    | 890.90  | 382.00  | 326350 |\n",
      "|S_19 |  0   |    0    |   0    | 895.08  | 383.00  | 313927 |\n",
      "|S_24 |  0   |    0    |   0    | 814.79  | 444.00  | 348491 |\n",
      "|S_25 |  0   |    0    |   0    | 929.67  | 491.00  | 506562 |\n",
      "|S_29 |  0   |    0    |   0    | 884.51  | 481.00  | 445362 |\n",
      "|S_16 |  0   |    0    |   0    | 947.51  | 409.00  | 339020 |\n",
      "|S_28 |  0   |    0    |   1    | 844.99  | 465.00  | 400849 |\n",
      "|S_23 |  0   |    0    |   0    | 927.39  | 505.00  | 398652 |\n"
     ]
    }
   ],
   "source": [
    "print(knitr::kable(formatted_summary, caption = \"Summary Statistics\", align = \"c\"))"
   ]
  },
  {
   "cell_type": "markdown",
   "metadata": {},
   "source": [
    "## Normalize Data"
   ]
  },
  {
   "cell_type": "code",
   "execution_count": 44,
   "metadata": {
    "vscode": {
     "languageId": "r"
    }
   },
   "outputs": [
    {
     "data": {
      "text/html": [
       "<style>\n",
       ".list-inline {list-style: none; margin:0; padding: 0}\n",
       ".list-inline>li {display: inline-block}\n",
       ".list-inline>li:not(:last-child)::after {content: \"\\00b7\"; padding: 0 .5ex}\n",
       "</style>\n",
       "<ol class=list-inline><li>68884</li><li>30</li></ol>\n"
      ],
      "text/latex": [
       "\\begin{enumerate*}\n",
       "\\item 68884\n",
       "\\item 30\n",
       "\\end{enumerate*}\n"
      ],
      "text/markdown": [
       "1. 68884\n",
       "2. 30\n",
       "\n",
       "\n"
      ],
      "text/plain": [
       "[1] 68884    30"
      ]
     },
     "metadata": {},
     "output_type": "display_data"
    }
   ],
   "source": [
    "dgeFull1 = DGEList(counts = counts, group = metadata$type)\n",
    "dim(dgeFull1)"
   ]
  },
  {
   "cell_type": "code",
   "execution_count": 45,
   "metadata": {
    "vscode": {
     "languageId": "r"
    }
   },
   "outputs": [
    {
     "data": {
      "text/html": [
       "<table class=\"dataframe\">\n",
       "<caption>A data.frame: 6 × 3</caption>\n",
       "<thead>\n",
       "\t<tr><th></th><th scope=col>group</th><th scope=col>lib.size</th><th scope=col>norm.factors</th></tr>\n",
       "\t<tr><th></th><th scope=col>&lt;fct&gt;</th><th scope=col>&lt;dbl&gt;</th><th scope=col>&lt;dbl&gt;</th></tr>\n",
       "</thead>\n",
       "<tbody>\n",
       "\t<tr><th scope=row>S_4</th><td>unstimulated</td><td>57127244</td><td>1.0254349</td></tr>\n",
       "\t<tr><th scope=row>S_3</th><td>unstimulated</td><td>58551019</td><td>1.8678209</td></tr>\n",
       "\t<tr><th scope=row>S_10</th><td>unstimulated</td><td>57416416</td><td>0.9194579</td></tr>\n",
       "\t<tr><th scope=row>S_11</th><td>TCR         </td><td>65711066</td><td>0.9233480</td></tr>\n",
       "\t<tr><th scope=row>S_7</th><td>TCR         </td><td>63960932</td><td>0.9575919</td></tr>\n",
       "\t<tr><th scope=row>S_12</th><td>TCR         </td><td>63184176</td><td>0.9324236</td></tr>\n",
       "</tbody>\n",
       "</table>\n"
      ],
      "text/latex": [
       "A data.frame: 6 × 3\n",
       "\\begin{tabular}{r|lll}\n",
       "  & group & lib.size & norm.factors\\\\\n",
       "  & <fct> & <dbl> & <dbl>\\\\\n",
       "\\hline\n",
       "\tS\\_4 & unstimulated & 57127244 & 1.0254349\\\\\n",
       "\tS\\_3 & unstimulated & 58551019 & 1.8678209\\\\\n",
       "\tS\\_10 & unstimulated & 57416416 & 0.9194579\\\\\n",
       "\tS\\_11 & TCR          & 65711066 & 0.9233480\\\\\n",
       "\tS\\_7 & TCR          & 63960932 & 0.9575919\\\\\n",
       "\tS\\_12 & TCR          & 63184176 & 0.9324236\\\\\n",
       "\\end{tabular}\n"
      ],
      "text/markdown": [
       "\n",
       "A data.frame: 6 × 3\n",
       "\n",
       "| <!--/--> | group &lt;fct&gt; | lib.size &lt;dbl&gt; | norm.factors &lt;dbl&gt; |\n",
       "|---|---|---|---|\n",
       "| S_4 | unstimulated | 57127244 | 1.0254349 |\n",
       "| S_3 | unstimulated | 58551019 | 1.8678209 |\n",
       "| S_10 | unstimulated | 57416416 | 0.9194579 |\n",
       "| S_11 | TCR          | 65711066 | 0.9233480 |\n",
       "| S_7 | TCR          | 63960932 | 0.9575919 |\n",
       "| S_12 | TCR          | 63184176 | 0.9324236 |\n",
       "\n"
      ],
      "text/plain": [
       "     group        lib.size norm.factors\n",
       "S_4  unstimulated 57127244 1.0254349   \n",
       "S_3  unstimulated 58551019 1.8678209   \n",
       "S_10 unstimulated 57416416 0.9194579   \n",
       "S_11 TCR          65711066 0.9233480   \n",
       "S_7  TCR          63960932 0.9575919   \n",
       "S_12 TCR          63184176 0.9324236   "
      ]
     },
     "metadata": {},
     "output_type": "display_data"
    }
   ],
   "source": [
    "dgeFull1 <- calcNormFactors(dgeFull1, method=\"TMM\")\n",
    "head(dgeFull1$samples)"
   ]
  },
  {
   "cell_type": "code",
   "execution_count": 46,
   "metadata": {
    "vscode": {
     "languageId": "r"
    }
   },
   "outputs": [
    {
     "data": {
      "text/html": [
       "<table class=\"dataframe\">\n",
       "<caption>A matrix: 6 × 30 of type dbl</caption>\n",
       "<thead>\n",
       "\t<tr><th></th><th scope=col>S_4</th><th scope=col>S_3</th><th scope=col>S_10</th><th scope=col>S_11</th><th scope=col>S_7</th><th scope=col>S_12</th><th scope=col>S_9</th><th scope=col>S_2</th><th scope=col>S_15</th><th scope=col>S_6</th><th scope=col>⋯</th><th scope=col>S_21</th><th scope=col>S_17</th><th scope=col>S_18</th><th scope=col>S_19</th><th scope=col>S_24</th><th scope=col>S_25</th><th scope=col>S_29</th><th scope=col>S_16</th><th scope=col>S_28</th><th scope=col>S_23</th></tr>\n",
       "</thead>\n",
       "<tbody>\n",
       "\t<tr><th scope=row>TSPAN6</th><td> 0.06828238</td><td> 0.000000</td><td> 0.000000</td><td> 0.000000</td><td> 0.000000</td><td> 0.000000</td><td> 0.000000</td><td> 0.000000</td><td> 0.000000</td><td> 0.000000</td><td>⋯</td><td> 0.000000</td><td> 0.000000</td><td> 0.000000</td><td> 0.000000</td><td> 0.000000</td><td> 0.0000000</td><td> 0.000000</td><td> 0.000000</td><td> 0.0000000</td><td> 0.000000</td></tr>\n",
       "\t<tr><th scope=row>TNMD</th><td> 0.00000000</td><td> 0.000000</td><td> 0.000000</td><td> 0.000000</td><td> 0.000000</td><td> 0.000000</td><td> 0.000000</td><td> 0.000000</td><td> 0.000000</td><td> 0.000000</td><td>⋯</td><td> 0.000000</td><td> 0.000000</td><td> 0.000000</td><td> 0.000000</td><td> 0.000000</td><td> 0.0000000</td><td> 0.000000</td><td> 0.000000</td><td> 0.0000000</td><td> 0.000000</td></tr>\n",
       "\t<tr><th scope=row>DPM1</th><td>34.87522438</td><td>31.326918</td><td>33.395225</td><td>32.254245</td><td>32.245704</td><td>31.757932</td><td>35.598923</td><td>25.893460</td><td>33.311979</td><td>34.929734</td><td>⋯</td><td>31.700211</td><td>33.231620</td><td>35.958172</td><td>34.287919</td><td>28.023614</td><td>19.6138490</td><td>21.240604</td><td>31.136265</td><td>21.5392229</td><td>24.803436</td></tr>\n",
       "\t<tr><th scope=row>SCYL3</th><td>18.65815969</td><td>13.194613</td><td>16.574488</td><td>16.596845</td><td>18.873941</td><td>19.027601</td><td>18.464039</td><td>14.360925</td><td>11.782099</td><td>19.039713</td><td>⋯</td><td>10.309304</td><td>12.228489</td><td> 9.818837</td><td>11.360455</td><td>11.365442</td><td> 8.3255410</td><td> 8.654215</td><td>11.222508</td><td> 8.8639497</td><td>10.196968</td></tr>\n",
       "\t<tr><th scope=row>C1orf112</th><td>39.31357893</td><td>29.873042</td><td>38.699061</td><td>35.319799</td><td>38.041767</td><td>37.410199</td><td>42.436863</td><td>29.990064</td><td>37.702718</td><td>39.211900</td><td>⋯</td><td>35.669472</td><td>34.650498</td><td>36.280412</td><td>35.996682</td><td>27.020781</td><td>22.8910997</td><td>21.841591</td><td>37.632574</td><td>24.9309512</td><td>28.305098</td></tr>\n",
       "\t<tr><th scope=row>FGR</th><td> 4.16522504</td><td> 2.660868</td><td> 4.451434</td><td> 4.285183</td><td> 4.228677</td><td> 5.193975</td><td> 3.410963</td><td> 2.864886</td><td> 1.135828</td><td> 3.981353</td><td>⋯</td><td> 1.814006</td><td> 1.717589</td><td> 1.516423</td><td> 1.164212</td><td> 1.244256</td><td> 0.7448297</td><td> 1.322172</td><td> 1.345285</td><td> 0.8042242</td><td> 1.102375</td></tr>\n",
       "</tbody>\n",
       "</table>\n"
      ],
      "text/latex": [
       "A matrix: 6 × 30 of type dbl\n",
       "\\begin{tabular}{r|lllllllllllllllllllll}\n",
       "  & S\\_4 & S\\_3 & S\\_10 & S\\_11 & S\\_7 & S\\_12 & S\\_9 & S\\_2 & S\\_15 & S\\_6 & ⋯ & S\\_21 & S\\_17 & S\\_18 & S\\_19 & S\\_24 & S\\_25 & S\\_29 & S\\_16 & S\\_28 & S\\_23\\\\\n",
       "\\hline\n",
       "\tTSPAN6 &  0.06828238 &  0.000000 &  0.000000 &  0.000000 &  0.000000 &  0.000000 &  0.000000 &  0.000000 &  0.000000 &  0.000000 & ⋯ &  0.000000 &  0.000000 &  0.000000 &  0.000000 &  0.000000 &  0.0000000 &  0.000000 &  0.000000 &  0.0000000 &  0.000000\\\\\n",
       "\tTNMD &  0.00000000 &  0.000000 &  0.000000 &  0.000000 &  0.000000 &  0.000000 &  0.000000 &  0.000000 &  0.000000 &  0.000000 & ⋯ &  0.000000 &  0.000000 &  0.000000 &  0.000000 &  0.000000 &  0.0000000 &  0.000000 &  0.000000 &  0.0000000 &  0.000000\\\\\n",
       "\tDPM1 & 34.87522438 & 31.326918 & 33.395225 & 32.254245 & 32.245704 & 31.757932 & 35.598923 & 25.893460 & 33.311979 & 34.929734 & ⋯ & 31.700211 & 33.231620 & 35.958172 & 34.287919 & 28.023614 & 19.6138490 & 21.240604 & 31.136265 & 21.5392229 & 24.803436\\\\\n",
       "\tSCYL3 & 18.65815969 & 13.194613 & 16.574488 & 16.596845 & 18.873941 & 19.027601 & 18.464039 & 14.360925 & 11.782099 & 19.039713 & ⋯ & 10.309304 & 12.228489 &  9.818837 & 11.360455 & 11.365442 &  8.3255410 &  8.654215 & 11.222508 &  8.8639497 & 10.196968\\\\\n",
       "\tC1orf112 & 39.31357893 & 29.873042 & 38.699061 & 35.319799 & 38.041767 & 37.410199 & 42.436863 & 29.990064 & 37.702718 & 39.211900 & ⋯ & 35.669472 & 34.650498 & 36.280412 & 35.996682 & 27.020781 & 22.8910997 & 21.841591 & 37.632574 & 24.9309512 & 28.305098\\\\\n",
       "\tFGR &  4.16522504 &  2.660868 &  4.451434 &  4.285183 &  4.228677 &  5.193975 &  3.410963 &  2.864886 &  1.135828 &  3.981353 & ⋯ &  1.814006 &  1.717589 &  1.516423 &  1.164212 &  1.244256 &  0.7448297 &  1.322172 &  1.345285 &  0.8042242 &  1.102375\\\\\n",
       "\\end{tabular}\n"
      ],
      "text/markdown": [
       "\n",
       "A matrix: 6 × 30 of type dbl\n",
       "\n",
       "| <!--/--> | S_4 | S_3 | S_10 | S_11 | S_7 | S_12 | S_9 | S_2 | S_15 | S_6 | ⋯ | S_21 | S_17 | S_18 | S_19 | S_24 | S_25 | S_29 | S_16 | S_28 | S_23 |\n",
       "|---|---|---|---|---|---|---|---|---|---|---|---|---|---|---|---|---|---|---|---|---|---|\n",
       "| TSPAN6 |  0.06828238 |  0.000000 |  0.000000 |  0.000000 |  0.000000 |  0.000000 |  0.000000 |  0.000000 |  0.000000 |  0.000000 | ⋯ |  0.000000 |  0.000000 |  0.000000 |  0.000000 |  0.000000 |  0.0000000 |  0.000000 |  0.000000 |  0.0000000 |  0.000000 |\n",
       "| TNMD |  0.00000000 |  0.000000 |  0.000000 |  0.000000 |  0.000000 |  0.000000 |  0.000000 |  0.000000 |  0.000000 |  0.000000 | ⋯ |  0.000000 |  0.000000 |  0.000000 |  0.000000 |  0.000000 |  0.0000000 |  0.000000 |  0.000000 |  0.0000000 |  0.000000 |\n",
       "| DPM1 | 34.87522438 | 31.326918 | 33.395225 | 32.254245 | 32.245704 | 31.757932 | 35.598923 | 25.893460 | 33.311979 | 34.929734 | ⋯ | 31.700211 | 33.231620 | 35.958172 | 34.287919 | 28.023614 | 19.6138490 | 21.240604 | 31.136265 | 21.5392229 | 24.803436 |\n",
       "| SCYL3 | 18.65815969 | 13.194613 | 16.574488 | 16.596845 | 18.873941 | 19.027601 | 18.464039 | 14.360925 | 11.782099 | 19.039713 | ⋯ | 10.309304 | 12.228489 |  9.818837 | 11.360455 | 11.365442 |  8.3255410 |  8.654215 | 11.222508 |  8.8639497 | 10.196968 |\n",
       "| C1orf112 | 39.31357893 | 29.873042 | 38.699061 | 35.319799 | 38.041767 | 37.410199 | 42.436863 | 29.990064 | 37.702718 | 39.211900 | ⋯ | 35.669472 | 34.650498 | 36.280412 | 35.996682 | 27.020781 | 22.8910997 | 21.841591 | 37.632574 | 24.9309512 | 28.305098 |\n",
       "| FGR |  4.16522504 |  2.660868 |  4.451434 |  4.285183 |  4.228677 |  5.193975 |  3.410963 |  2.864886 |  1.135828 |  3.981353 | ⋯ |  1.814006 |  1.717589 |  1.516423 |  1.164212 |  1.244256 |  0.7448297 |  1.322172 |  1.345285 |  0.8042242 |  1.102375 |\n",
       "\n"
      ],
      "text/plain": [
       "         S_4         S_3       S_10      S_11      S_7       S_12     \n",
       "TSPAN6    0.06828238  0.000000  0.000000  0.000000  0.000000  0.000000\n",
       "TNMD      0.00000000  0.000000  0.000000  0.000000  0.000000  0.000000\n",
       "DPM1     34.87522438 31.326918 33.395225 32.254245 32.245704 31.757932\n",
       "SCYL3    18.65815969 13.194613 16.574488 16.596845 18.873941 19.027601\n",
       "C1orf112 39.31357893 29.873042 38.699061 35.319799 38.041767 37.410199\n",
       "FGR       4.16522504  2.660868  4.451434  4.285183  4.228677  5.193975\n",
       "         S_9       S_2       S_15      S_6       ⋯ S_21      S_17     \n",
       "TSPAN6    0.000000  0.000000  0.000000  0.000000 ⋯  0.000000  0.000000\n",
       "TNMD      0.000000  0.000000  0.000000  0.000000 ⋯  0.000000  0.000000\n",
       "DPM1     35.598923 25.893460 33.311979 34.929734 ⋯ 31.700211 33.231620\n",
       "SCYL3    18.464039 14.360925 11.782099 19.039713 ⋯ 10.309304 12.228489\n",
       "C1orf112 42.436863 29.990064 37.702718 39.211900 ⋯ 35.669472 34.650498\n",
       "FGR       3.410963  2.864886  1.135828  3.981353 ⋯  1.814006  1.717589\n",
       "         S_18      S_19      S_24      S_25       S_29      S_16     \n",
       "TSPAN6    0.000000  0.000000  0.000000  0.0000000  0.000000  0.000000\n",
       "TNMD      0.000000  0.000000  0.000000  0.0000000  0.000000  0.000000\n",
       "DPM1     35.958172 34.287919 28.023614 19.6138490 21.240604 31.136265\n",
       "SCYL3     9.818837 11.360455 11.365442  8.3255410  8.654215 11.222508\n",
       "C1orf112 36.280412 35.996682 27.020781 22.8910997 21.841591 37.632574\n",
       "FGR       1.516423  1.164212  1.244256  0.7448297  1.322172  1.345285\n",
       "         S_28       S_23     \n",
       "TSPAN6    0.0000000  0.000000\n",
       "TNMD      0.0000000  0.000000\n",
       "DPM1     21.5392229 24.803436\n",
       "SCYL3     8.8639497 10.196968\n",
       "C1orf112 24.9309512 28.305098\n",
       "FGR       0.8042242  1.102375"
      ]
     },
     "metadata": {},
     "output_type": "display_data"
    }
   ],
   "source": [
    "eff.lib.size0 <- dgeFull1$samples$lib.size*dgeFull1$samples$norm.factors\n",
    "analysis <- data.frame(cpm(dgeFull1))\n",
    "colnames(analysis) <- sub(pattern = \"^X\", replacement = \"\", colnames(analysis))\n",
    "analysis <-as.matrix(analysis)\n",
    "head(analysis)"
   ]
  },
  {
   "cell_type": "markdown",
   "metadata": {},
   "source": [
    "## View normalized data"
   ]
  },
  {
   "cell_type": "code",
   "execution_count": 47,
   "metadata": {
    "vscode": {
     "languageId": "r"
    }
   },
   "outputs": [],
   "source": [
    "# Create a box plot\n",
    "counts_mat <- analysis\n",
    "box_plot <- ggplot(data = melt(counts_mat), aes(x = Var2, y = value)) +\n",
    "  geom_boxplot() +\n",
    "  labs(x = \"Samples\", y = \"Counts\") +\n",
    "  theme(axis.text.x = element_text(angle = 90, vjust = 0.5)) + # Rotate x-axis labels for better readability\n",
    "  ggtitle(\"Box Plot of Counts Matrix\")\n",
    "\n",
    "# Compute summary statistics\n",
    "summary_stats <- apply(counts_mat, 2, summary)\n",
    "formatted_summary <- t(round(summary_stats, 2)) "
   ]
  },
  {
   "cell_type": "code",
   "execution_count": 48,
   "metadata": {
    "vscode": {
     "languageId": "r"
    }
   },
   "outputs": [
    {
     "data": {
      "image/png": "[encoded data removed]",
      "text/plain": [
       "plot without title"
      ]
     },
     "metadata": {
      "image/png": {
       "height": 420,
       "width": 420
      }
     },
     "output_type": "display_data"
    }
   ],
   "source": [
    "box_plot"
   ]
  },
  {
   "cell_type": "code",
   "execution_count": 49,
   "metadata": {
    "vscode": {
     "languageId": "r"
    }
   },
   "outputs": [
    {
     "name": "stdout",
     "output_type": "stream",
     "text": [
      "[1] \"Summary Statistics:\"\n",
      "\n",
      "\n",
      "Table: Summary Statistics\n",
      "\n",
      "|     | Min. | 1st Qu. | Median | Mean  | 3rd Qu. |  Max.   |\n",
      "|:----|:----:|:-------:|:------:|:-----:|:-------:|:-------:|\n",
      "|S_4  |  0   |    0    |  0.00  | 14.16 |  6.42   | 4401.31 |\n",
      "|S_3  |  0   |    0    |  0.00  | 7.77  |  0.04   | 3300.15 |\n",
      "|S_10 |  0   |    0    |  0.00  | 15.79 |  7.62   | 4326.51 |\n",
      "|S_11 |  0   |    0    |  0.00  | 15.72 |  7.68   | 4405.65 |\n",
      "|S_7  |  0   |    0    |  0.00  | 15.16 |  7.05   | 4473.27 |\n",
      "|S_12 |  0   |    0    |  0.00  | 15.57 |  7.57   | 4693.01 |\n",
      "|S_9  |  0   |    0    |  0.00  | 15.14 |  7.11   | 4432.83 |\n",
      "|S_2  |  0   |    0    |  0.00  | 7.64  |  0.04   | 3922.59 |\n",
      "|S_15 |  0   |    0    |  0.00  | 16.09 |  6.90   | 4870.62 |\n",
      "|S_6  |  0   |    0    |  0.00  | 14.11 |  6.35   | 3854.18 |\n",
      "|S_8  |  0   |    0    |  0.02  | 15.11 |  6.99   | 4377.80 |\n",
      "|S_1  |  0   |    0    |  0.00  | 7.68  |  0.04   | 3245.26 |\n",
      "|S_5  |  0   |    0    |  0.00  | 14.33 |  6.56   | 4063.75 |\n",
      "|S_14 |  0   |    0    |  0.00  | 16.22 |  6.95   | 5042.65 |\n",
      "|S_13 |  0   |    0    |  0.00  | 15.78 |  6.82   | 4627.14 |\n",
      "|S_22 |  0   |    0    |  0.00  | 15.30 |  8.20   | 6775.53 |\n",
      "|S_26 |  0   |    0    |  0.00  | 15.50 |  8.28   | 8532.25 |\n",
      "|S_30 |  0   |    0    |  0.00  | 14.98 |  8.19   | 7279.92 |\n",
      "|S_27 |  0   |    0    |  0.00  | 15.53 |  8.24   | 8746.07 |\n",
      "|S_20 |  0   |    0    |  0.00  | 16.97 |  7.21   | 5915.16 |\n",
      "|S_21 |  0   |    0    |  0.00  | 16.75 |  7.20   | 6035.52 |\n",
      "|S_17 |  0   |    0    |  0.00  | 17.01 |  7.24   | 6263.38 |\n",
      "|S_18 |  0   |    0    |  0.00  | 16.89 |  7.24   | 6186.06 |\n",
      "|S_19 |  0   |    0    |  0.00  | 16.81 |  7.19   | 5894.80 |\n",
      "|S_24 |  0   |    0    |  0.00  | 15.13 |  8.25   | 6471.82 |\n",
      "|S_25 |  0   |    0    |  0.00  | 15.39 |  8.13   | 8384.50 |\n",
      "|S_29 |  0   |    0    |  0.00  | 15.19 |  8.26   | 7647.34 |\n",
      "|S_16 |  0   |    0    |  0.00  | 16.77 |  7.24   | 6001.03 |\n",
      "|S_28 |  0   |    0    |  0.02  | 14.77 |  8.13   | 7008.10 |\n",
      "|S_23 |  0   |    0    |  0.00  | 15.03 |  8.19   | 6462.71 |\n"
     ]
    }
   ],
   "source": [
    "print(\"Summary Statistics:\")\n",
    "print(knitr::kable(formatted_summary, caption = \"Summary Statistics\", align = \"c\"))"
   ]
  },
  {
   "cell_type": "code",
   "execution_count": 56,
   "metadata": {
    "vscode": {
     "languageId": "r"
    }
   },
   "outputs": [
    {
     "data": {
      "text/html": [
       "<table class=\"dataframe\">\n",
       "<caption>A matrix: 6 × 30 of type dbl</caption>\n",
       "<thead>\n",
       "\t<tr><th></th><th scope=col>S_4</th><th scope=col>S_3</th><th scope=col>S_10</th><th scope=col>S_11</th><th scope=col>S_7</th><th scope=col>S_12</th><th scope=col>S_9</th><th scope=col>S_2</th><th scope=col>S_15</th><th scope=col>S_6</th><th scope=col>⋯</th><th scope=col>S_21</th><th scope=col>S_17</th><th scope=col>S_18</th><th scope=col>S_19</th><th scope=col>S_24</th><th scope=col>S_25</th><th scope=col>S_29</th><th scope=col>S_16</th><th scope=col>S_28</th><th scope=col>S_23</th></tr>\n",
       "</thead>\n",
       "<tbody>\n",
       "\t<tr><th scope=row>TSPAN6</th><td> 0.06828238</td><td> 0.000000</td><td> 0.000000</td><td> 0.000000</td><td> 0.000000</td><td> 0.000000</td><td> 0.000000</td><td> 0.000000</td><td> 0.000000</td><td> 0.000000</td><td>⋯</td><td> 0.000000</td><td> 0.000000</td><td> 0.000000</td><td> 0.000000</td><td> 0.000000</td><td> 0.0000000</td><td> 0.000000</td><td> 0.000000</td><td> 0.0000000</td><td> 0.000000</td></tr>\n",
       "\t<tr><th scope=row>TNMD</th><td> 0.00000000</td><td> 0.000000</td><td> 0.000000</td><td> 0.000000</td><td> 0.000000</td><td> 0.000000</td><td> 0.000000</td><td> 0.000000</td><td> 0.000000</td><td> 0.000000</td><td>⋯</td><td> 0.000000</td><td> 0.000000</td><td> 0.000000</td><td> 0.000000</td><td> 0.000000</td><td> 0.0000000</td><td> 0.000000</td><td> 0.000000</td><td> 0.0000000</td><td> 0.000000</td></tr>\n",
       "\t<tr><th scope=row>DPM1</th><td>34.87522438</td><td>31.326918</td><td>33.395225</td><td>32.254245</td><td>32.245704</td><td>31.757932</td><td>35.598923</td><td>25.893460</td><td>33.311979</td><td>34.929734</td><td>⋯</td><td>31.700211</td><td>33.231620</td><td>35.958172</td><td>34.287919</td><td>28.023614</td><td>19.6138490</td><td>21.240604</td><td>31.136265</td><td>21.5392229</td><td>24.803436</td></tr>\n",
       "\t<tr><th scope=row>SCYL3</th><td>18.65815969</td><td>13.194613</td><td>16.574488</td><td>16.596845</td><td>18.873941</td><td>19.027601</td><td>18.464039</td><td>14.360925</td><td>11.782099</td><td>19.039713</td><td>⋯</td><td>10.309304</td><td>12.228489</td><td> 9.818837</td><td>11.360455</td><td>11.365442</td><td> 8.3255410</td><td> 8.654215</td><td>11.222508</td><td> 8.8639497</td><td>10.196968</td></tr>\n",
       "\t<tr><th scope=row>C1orf112</th><td>39.31357893</td><td>29.873042</td><td>38.699061</td><td>35.319799</td><td>38.041767</td><td>37.410199</td><td>42.436863</td><td>29.990064</td><td>37.702718</td><td>39.211900</td><td>⋯</td><td>35.669472</td><td>34.650498</td><td>36.280412</td><td>35.996682</td><td>27.020781</td><td>22.8910997</td><td>21.841591</td><td>37.632574</td><td>24.9309512</td><td>28.305098</td></tr>\n",
       "\t<tr><th scope=row>FGR</th><td> 4.16522504</td><td> 2.660868</td><td> 4.451434</td><td> 4.285183</td><td> 4.228677</td><td> 5.193975</td><td> 3.410963</td><td> 2.864886</td><td> 1.135828</td><td> 3.981353</td><td>⋯</td><td> 1.814006</td><td> 1.717589</td><td> 1.516423</td><td> 1.164212</td><td> 1.244256</td><td> 0.7448297</td><td> 1.322172</td><td> 1.345285</td><td> 0.8042242</td><td> 1.102375</td></tr>\n",
       "</tbody>\n",
       "</table>\n"
      ],
      "text/latex": [
       "A matrix: 6 × 30 of type dbl\n",
       "\\begin{tabular}{r|lllllllllllllllllllll}\n",
       "  & S\\_4 & S\\_3 & S\\_10 & S\\_11 & S\\_7 & S\\_12 & S\\_9 & S\\_2 & S\\_15 & S\\_6 & ⋯ & S\\_21 & S\\_17 & S\\_18 & S\\_19 & S\\_24 & S\\_25 & S\\_29 & S\\_16 & S\\_28 & S\\_23\\\\\n",
       "\\hline\n",
       "\tTSPAN6 &  0.06828238 &  0.000000 &  0.000000 &  0.000000 &  0.000000 &  0.000000 &  0.000000 &  0.000000 &  0.000000 &  0.000000 & ⋯ &  0.000000 &  0.000000 &  0.000000 &  0.000000 &  0.000000 &  0.0000000 &  0.000000 &  0.000000 &  0.0000000 &  0.000000\\\\\n",
       "\tTNMD &  0.00000000 &  0.000000 &  0.000000 &  0.000000 &  0.000000 &  0.000000 &  0.000000 &  0.000000 &  0.000000 &  0.000000 & ⋯ &  0.000000 &  0.000000 &  0.000000 &  0.000000 &  0.000000 &  0.0000000 &  0.000000 &  0.000000 &  0.0000000 &  0.000000\\\\\n",
       "\tDPM1 & 34.87522438 & 31.326918 & 33.395225 & 32.254245 & 32.245704 & 31.757932 & 35.598923 & 25.893460 & 33.311979 & 34.929734 & ⋯ & 31.700211 & 33.231620 & 35.958172 & 34.287919 & 28.023614 & 19.6138490 & 21.240604 & 31.136265 & 21.5392229 & 24.803436\\\\\n",
       "\tSCYL3 & 18.65815969 & 13.194613 & 16.574488 & 16.596845 & 18.873941 & 19.027601 & 18.464039 & 14.360925 & 11.782099 & 19.039713 & ⋯ & 10.309304 & 12.228489 &  9.818837 & 11.360455 & 11.365442 &  8.3255410 &  8.654215 & 11.222508 &  8.8639497 & 10.196968\\\\\n",
       "\tC1orf112 & 39.31357893 & 29.873042 & 38.699061 & 35.319799 & 38.041767 & 37.410199 & 42.436863 & 29.990064 & 37.702718 & 39.211900 & ⋯ & 35.669472 & 34.650498 & 36.280412 & 35.996682 & 27.020781 & 22.8910997 & 21.841591 & 37.632574 & 24.9309512 & 28.305098\\\\\n",
       "\tFGR &  4.16522504 &  2.660868 &  4.451434 &  4.285183 &  4.228677 &  5.193975 &  3.410963 &  2.864886 &  1.135828 &  3.981353 & ⋯ &  1.814006 &  1.717589 &  1.516423 &  1.164212 &  1.244256 &  0.7448297 &  1.322172 &  1.345285 &  0.8042242 &  1.102375\\\\\n",
       "\\end{tabular}\n"
      ],
      "text/markdown": [
       "\n",
       "A matrix: 6 × 30 of type dbl\n",
       "\n",
       "| <!--/--> | S_4 | S_3 | S_10 | S_11 | S_7 | S_12 | S_9 | S_2 | S_15 | S_6 | ⋯ | S_21 | S_17 | S_18 | S_19 | S_24 | S_25 | S_29 | S_16 | S_28 | S_23 |\n",
       "|---|---|---|---|---|---|---|---|---|---|---|---|---|---|---|---|---|---|---|---|---|---|\n",
       "| TSPAN6 |  0.06828238 |  0.000000 |  0.000000 |  0.000000 |  0.000000 |  0.000000 |  0.000000 |  0.000000 |  0.000000 |  0.000000 | ⋯ |  0.000000 |  0.000000 |  0.000000 |  0.000000 |  0.000000 |  0.0000000 |  0.000000 |  0.000000 |  0.0000000 |  0.000000 |\n",
       "| TNMD |  0.00000000 |  0.000000 |  0.000000 |  0.000000 |  0.000000 |  0.000000 |  0.000000 |  0.000000 |  0.000000 |  0.000000 | ⋯ |  0.000000 |  0.000000 |  0.000000 |  0.000000 |  0.000000 |  0.0000000 |  0.000000 |  0.000000 |  0.0000000 |  0.000000 |\n",
       "| DPM1 | 34.87522438 | 31.326918 | 33.395225 | 32.254245 | 32.245704 | 31.757932 | 35.598923 | 25.893460 | 33.311979 | 34.929734 | ⋯ | 31.700211 | 33.231620 | 35.958172 | 34.287919 | 28.023614 | 19.6138490 | 21.240604 | 31.136265 | 21.5392229 | 24.803436 |\n",
       "| SCYL3 | 18.65815969 | 13.194613 | 16.574488 | 16.596845 | 18.873941 | 19.027601 | 18.464039 | 14.360925 | 11.782099 | 19.039713 | ⋯ | 10.309304 | 12.228489 |  9.818837 | 11.360455 | 11.365442 |  8.3255410 |  8.654215 | 11.222508 |  8.8639497 | 10.196968 |\n",
       "| C1orf112 | 39.31357893 | 29.873042 | 38.699061 | 35.319799 | 38.041767 | 37.410199 | 42.436863 | 29.990064 | 37.702718 | 39.211900 | ⋯ | 35.669472 | 34.650498 | 36.280412 | 35.996682 | 27.020781 | 22.8910997 | 21.841591 | 37.632574 | 24.9309512 | 28.305098 |\n",
       "| FGR |  4.16522504 |  2.660868 |  4.451434 |  4.285183 |  4.228677 |  5.193975 |  3.410963 |  2.864886 |  1.135828 |  3.981353 | ⋯ |  1.814006 |  1.717589 |  1.516423 |  1.164212 |  1.244256 |  0.7448297 |  1.322172 |  1.345285 |  0.8042242 |  1.102375 |\n",
       "\n"
      ],
      "text/plain": [
       "         S_4         S_3       S_10      S_11      S_7       S_12     \n",
       "TSPAN6    0.06828238  0.000000  0.000000  0.000000  0.000000  0.000000\n",
       "TNMD      0.00000000  0.000000  0.000000  0.000000  0.000000  0.000000\n",
       "DPM1     34.87522438 31.326918 33.395225 32.254245 32.245704 31.757932\n",
       "SCYL3    18.65815969 13.194613 16.574488 16.596845 18.873941 19.027601\n",
       "C1orf112 39.31357893 29.873042 38.699061 35.319799 38.041767 37.410199\n",
       "FGR       4.16522504  2.660868  4.451434  4.285183  4.228677  5.193975\n",
       "         S_9       S_2       S_15      S_6       ⋯ S_21      S_17     \n",
       "TSPAN6    0.000000  0.000000  0.000000  0.000000 ⋯  0.000000  0.000000\n",
       "TNMD      0.000000  0.000000  0.000000  0.000000 ⋯  0.000000  0.000000\n",
       "DPM1     35.598923 25.893460 33.311979 34.929734 ⋯ 31.700211 33.231620\n",
       "SCYL3    18.464039 14.360925 11.782099 19.039713 ⋯ 10.309304 12.228489\n",
       "C1orf112 42.436863 29.990064 37.702718 39.211900 ⋯ 35.669472 34.650498\n",
       "FGR       3.410963  2.864886  1.135828  3.981353 ⋯  1.814006  1.717589\n",
       "         S_18      S_19      S_24      S_25       S_29      S_16     \n",
       "TSPAN6    0.000000  0.000000  0.000000  0.0000000  0.000000  0.000000\n",
       "TNMD      0.000000  0.000000  0.000000  0.0000000  0.000000  0.000000\n",
       "DPM1     35.958172 34.287919 28.023614 19.6138490 21.240604 31.136265\n",
       "SCYL3     9.818837 11.360455 11.365442  8.3255410  8.654215 11.222508\n",
       "C1orf112 36.280412 35.996682 27.020781 22.8910997 21.841591 37.632574\n",
       "FGR       1.516423  1.164212  1.244256  0.7448297  1.322172  1.345285\n",
       "         S_28       S_23     \n",
       "TSPAN6    0.0000000  0.000000\n",
       "TNMD      0.0000000  0.000000\n",
       "DPM1     21.5392229 24.803436\n",
       "SCYL3     8.8639497 10.196968\n",
       "C1orf112 24.9309512 28.305098\n",
       "FGR       0.8042242  1.102375"
      ]
     },
     "metadata": {},
     "output_type": "display_data"
    }
   ],
   "source": [
    "head(analysis)"
   ]
  },
  {
   "cell_type": "code",
   "execution_count": 55,
   "metadata": {
    "vscode": {
     "languageId": "r"
    }
   },
   "outputs": [
    {
     "data": {
      "text/html": [
       "<table class=\"dataframe\">\n",
       "<caption>A data.table: 6 × 3</caption>\n",
       "<thead>\n",
       "\t<tr><th scope=col>Sample</th><th scope=col>Condition</th><th scope=col>Time_Point</th></tr>\n",
       "\t<tr><th scope=col>&lt;chr&gt;</th><th scope=col>&lt;chr&gt;</th><th scope=col>&lt;chr&gt;</th></tr>\n",
       "</thead>\n",
       "<tbody>\n",
       "\t<tr><td>S_1</td><td>unstimulated</td><td>0 </td></tr>\n",
       "\t<tr><td>S_2</td><td>unstimulated</td><td>0 </td></tr>\n",
       "\t<tr><td>S_3</td><td>unstimulated</td><td>0 </td></tr>\n",
       "\t<tr><td>S_4</td><td>TCR         </td><td>4h</td></tr>\n",
       "\t<tr><td>S_5</td><td>TCR         </td><td>4h</td></tr>\n",
       "\t<tr><td>S_6</td><td>TCR         </td><td>4h</td></tr>\n",
       "</tbody>\n",
       "</table>\n"
      ],
      "text/latex": [
       "A data.table: 6 × 3\n",
       "\\begin{tabular}{lll}\n",
       " Sample & Condition & Time\\_Point\\\\\n",
       " <chr> & <chr> & <chr>\\\\\n",
       "\\hline\n",
       "\t S\\_1 & unstimulated & 0 \\\\\n",
       "\t S\\_2 & unstimulated & 0 \\\\\n",
       "\t S\\_3 & unstimulated & 0 \\\\\n",
       "\t S\\_4 & TCR          & 4h\\\\\n",
       "\t S\\_5 & TCR          & 4h\\\\\n",
       "\t S\\_6 & TCR          & 4h\\\\\n",
       "\\end{tabular}\n"
      ],
      "text/markdown": [
       "\n",
       "A data.table: 6 × 3\n",
       "\n",
       "| Sample &lt;chr&gt; | Condition &lt;chr&gt; | Time_Point &lt;chr&gt; |\n",
       "|---|---|---|\n",
       "| S_1 | unstimulated | 0  |\n",
       "| S_2 | unstimulated | 0  |\n",
       "| S_3 | unstimulated | 0  |\n",
       "| S_4 | TCR          | 4h |\n",
       "| S_5 | TCR          | 4h |\n",
       "| S_6 | TCR          | 4h |\n",
       "\n"
      ],
      "text/plain": [
       "  Sample Condition    Time_Point\n",
       "1 S_1    unstimulated 0         \n",
       "2 S_2    unstimulated 0         \n",
       "3 S_3    unstimulated 0         \n",
       "4 S_4    TCR          4h        \n",
       "5 S_5    TCR          4h        \n",
       "6 S_6    TCR          4h        "
      ]
     },
     "metadata": {},
     "output_type": "display_data"
    }
   ],
   "source": [
    "phen <- metadata %>%\n",
    "    rename(\n",
    "        Sample = sample,\n",
    "        Condition = type,\n",
    "        Time_Point = Group\n",
    "        ) %>%\n",
    "    select(Sample, Condition, Time_Point) %>%\n",
    "    mutate(across(everything(), as.character))\n",
    "# phen$Compare_All <- paste(phen$Condition, phen$Time_Point, phen$Cell_Type, sep = \"_\")\n",
    "head(phen)"
   ]
  },
  {
   "cell_type": "code",
   "execution_count": 58,
   "metadata": {
    "vscode": {
     "languageId": "r"
    }
   },
   "outputs": [],
   "source": [
    "dir.create(\"Jurkat_RNAseq_GSE239586\", showWarnings = FALSE)\n",
    "saveRDS(analysis, file = file.path(\"Jurkat_RNAseq_GSE239586\", \"expression.rds\"))\n",
    "saveRDS(phen, file = file.path(\"Jurkat_RNAseq_GSE239586\", \"metadata.rds\"))"
   ]
  },
  {
   "cell_type": "code",
   "execution_count": 75,
   "metadata": {
    "vscode": {
     "languageId": "r"
    }
   },
   "outputs": [
    {
     "data": {
      "text/html": [
       "<style>\n",
       ".list-inline {list-style: none; margin:0; padding: 0}\n",
       ".list-inline>li {display: inline-block}\n",
       ".list-inline>li:not(:last-child)::after {content: \"\\00b7\"; padding: 0 .5ex}\n",
       "</style>\n",
       "<ol class=list-inline><li>'4h'</li><li>'20h'</li><li>'48h'</li></ol>\n"
      ],
      "text/latex": [
       "\\begin{enumerate*}\n",
       "\\item '4h'\n",
       "\\item '20h'\n",
       "\\item '48h'\n",
       "\\end{enumerate*}\n"
      ],
      "text/markdown": [
       "1. '4h'\n",
       "2. '20h'\n",
       "3. '48h'\n",
       "\n",
       "\n"
      ],
      "text/plain": [
       "[1] \"4h\"  \"20h\" \"48h\""
      ]
     },
     "metadata": {},
     "output_type": "display_data"
    }
   ],
   "source": [
    " unique(phen$Time_Point)[-1]"
   ]
  },
  {
   "cell_type": "code",
   "execution_count": 78,
   "metadata": {
    "vscode": {
     "languageId": "r"
    }
   },
   "outputs": [],
   "source": [
    "system(\"R -e \\\"shiny::runApp('Jurkat_RNAseq_GSE239586')\\\"\")"
   ]
  }
 ],
 "metadata": {
  "kernelspec": {
   "display_name": "R",
   "language": "R",
   "name": "ir"
  },
  "language_info": {
   "codemirror_mode": "r",
   "file_extension": ".r",
   "mimetype": "text/x-r-source",
   "name": "R",
   "pygments_lexer": "r",
   "version": "4.3.3"
  }
 },
 "nbformat": 4,
 "nbformat_minor": 2
}
